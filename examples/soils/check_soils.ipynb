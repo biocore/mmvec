{
 "cells": [
  {
   "cell_type": "code",
   "execution_count": 1,
   "metadata": {},
   "outputs": [],
   "source": [
    "import pandas as pd\n",
    "import matplotlib.pyplot as plt\n",
    "%matplotlib inline"
   ]
  },
  {
   "cell_type": "code",
   "execution_count": 2,
   "metadata": {},
   "outputs": [
    {
     "name": "stdout",
     "output_type": "stream",
     "text": [
      "\u001b[34mlatent_dim_1_input_prior_1.00_output_prior_1.00_beta1_0.90_beta2_0.95\u001b[m\u001b[m\r\n",
      "latent_dim_1_input_prior_1.00_output_prior_1.00_beta1_0.90_beta2_0.95_embedding.csv\r\n",
      "latent_dim_1_input_prior_1.00_output_prior_1.00_beta1_0.90_beta2_0.95_ordination.txt\r\n",
      "latent_dim_1_input_prior_1.00_output_prior_1.00_beta1_0.90_beta2_0.95_ranks.csv\r\n"
     ]
    }
   ],
   "source": [
    "!ls summarydir"
   ]
  },
  {
   "cell_type": "code",
   "execution_count": 3,
   "metadata": {},
   "outputs": [],
   "source": [
    "datadir = 'summarydir/latent_dim_1_input_prior_1.00_output_prior_1.00_beta1_0.90_beta2_0.95'\n",
    "ranks = pd.read_csv(datadir + '_ranks.csv', index_col=0)"
   ]
  },
  {
   "cell_type": "code",
   "execution_count": 4,
   "metadata": {},
   "outputs": [
    {
     "data": {
      "text/plain": [
       "(2,3-dihydroxy-3-methylbutanoate)    0.000000\n",
       "(2,5-diaminohexanoate)               0.030698\n",
       "(3-hydroxypyridine)                  0.030141\n",
       "(3-methyladenine)                    0.032587\n",
       "(4-oxoproline)                       0.036312\n",
       "Name: rplo 1 (Cyanobacteria), dtype: float64"
      ]
     },
     "execution_count": 4,
     "metadata": {},
     "output_type": "execute_result"
    }
   ],
   "source": [
    "ranks.loc['rplo 1 (Cyanobacteria)'].head()"
   ]
  },
  {
   "cell_type": "code",
   "execution_count": 5,
   "metadata": {},
   "outputs": [],
   "source": [
    "microcoleus_metabolites = {'(3-methyladenine)', '7-methyladenine', '4-guanidinobutanoate', 'uracil',\n",
    "                           'xanthine', 'hypoxanthine', '(N6-acetyl-lysine)', 'cytosine',\n",
    "                           'N-acetylornithine', 'N-acetylornithine', 'succinate', \n",
    "                           'adenosine', 'guanine', 'adenine'}"
   ]
  },
  {
   "cell_type": "code",
   "execution_count": 6,
   "metadata": {},
   "outputs": [],
   "source": [
    "idx = ranks.loc['rplo 1 (Cyanobacteria)'] > 0 \n",
    "detected_molecules = set(ranks.columns[idx])"
   ]
  },
  {
   "cell_type": "code",
   "execution_count": 7,
   "metadata": {},
   "outputs": [
    {
     "data": {
      "text/plain": [
       "{'(3-methyladenine)',\n",
       " '(N6-acetyl-lysine)',\n",
       " '4-guanidinobutanoate',\n",
       " '7-methyladenine',\n",
       " 'N-acetylornithine',\n",
       " 'adenine',\n",
       " 'adenosine',\n",
       " 'cytosine',\n",
       " 'guanine',\n",
       " 'hypoxanthine',\n",
       " 'succinate',\n",
       " 'uracil',\n",
       " 'xanthine'}"
      ]
     },
     "execution_count": 7,
     "metadata": {},
     "output_type": "execute_result"
    }
   ],
   "source": [
    "detected_molecules & microcoleus_metabolites"
   ]
  },
  {
   "cell_type": "code",
   "execution_count": 8,
   "metadata": {},
   "outputs": [
    {
     "data": {
      "text/plain": [
       "13"
      ]
     },
     "execution_count": 8,
     "metadata": {},
     "output_type": "execute_result"
    }
   ],
   "source": [
    "len(microcoleus_metabolites)"
   ]
  },
  {
   "cell_type": "code",
   "execution_count": 9,
   "metadata": {},
   "outputs": [
    {
     "data": {
      "text/plain": [
       "13"
      ]
     },
     "execution_count": 9,
     "metadata": {},
     "output_type": "execute_result"
    }
   ],
   "source": [
    "len(detected_molecules & microcoleus_metabolites)"
   ]
  },
  {
   "cell_type": "code",
   "execution_count": 10,
   "metadata": {},
   "outputs": [
    {
     "data": {
      "text/plain": [
       "xanthine                0.030167\n",
       "guanine                 0.033443\n",
       "(N6-acetyl-lysine)      0.031525\n",
       "cytosine                0.033451\n",
       "adenosine               0.038334\n",
       "(3-methyladenine)       0.032587\n",
       "4-guanidinobutanoate    0.031690\n",
       "uracil                  0.032330\n",
       "hypoxanthine            0.032204\n",
       "7-methyladenine         0.029252\n",
       "N-acetylornithine       0.033029\n",
       "succinate               0.033501\n",
       "adenine                 0.032958\n",
       "Name: rplo 1 (Cyanobacteria), dtype: float64"
      ]
     },
     "execution_count": 10,
     "metadata": {},
     "output_type": "execute_result"
    }
   ],
   "source": [
    "ranks.loc['rplo 1 (Cyanobacteria)'].loc[microcoleus_metabolites]"
   ]
  },
  {
   "cell_type": "code",
   "execution_count": 11,
   "metadata": {},
   "outputs": [],
   "source": [
    "assert len(detected_molecules & microcoleus_metabolites) == 13"
   ]
  },
  {
   "cell_type": "code",
   "execution_count": null,
   "metadata": {},
   "outputs": [],
   "source": []
  }
 ],
 "metadata": {
  "kernelspec": {
   "display_name": "Python 3",
   "language": "python",
   "name": "python3"
  },
  "language_info": {
   "codemirror_mode": {
    "name": "ipython",
    "version": 3
   },
   "file_extension": ".py",
   "mimetype": "text/x-python",
   "name": "python",
   "nbconvert_exporter": "python",
   "pygments_lexer": "ipython3",
   "version": "3.6.7"
  }
 },
 "nbformat": 4,
 "nbformat_minor": 2
}
